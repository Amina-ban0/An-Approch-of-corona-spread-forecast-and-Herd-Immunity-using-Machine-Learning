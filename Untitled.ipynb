{
 "cells": [
  {
   "cell_type": "code",
   "execution_count": 1,
   "metadata": {},
   "outputs": [],
   "source": [
    "import operator\n",
    "import json\n",
    "import numpy as np\n",
    "import matplotlib.pyplot as plt\n",
    "import csv"
   ]
  },
  {
   "cell_type": "code",
   "execution_count": 2,
   "metadata": {},
   "outputs": [],
   "source": [
    "from data_grabbers.cases_data_grabber import CasesDataGrabber\n",
    "from data_grabbers.deaths_data_grabber import DeathsDataGrabber\n",
    "from models.NeuralNetModel import NeuralNetModel\n",
    "from models.PolynomialRegressionModel import PolynomialRegressionModel"
   ]
  },
  {
   "cell_type": "code",
   "execution_count": 3,
   "metadata": {},
   "outputs": [],
   "source": [
    "def grab_training_set(datagrabber_class, grab_data_from_server=True, offline_dataset_date=\"\"):\n",
    "    grabber = globals()[datagrabber_class]()\n",
    "    dataset_date = \"\"\n",
    "\n",
    "    if grab_data_from_server:\n",
    "        grabber.grab_data()\n",
    "    else:\n",
    "        dataset_date = offline_dataset_date\n",
    "\n",
    "        if offline_dataset_date == \"\":\n",
    "            raise Exception(\"Invalid offline dataset date received. Please update the 'offline_dataset_date' configuration in the config file and try again.\")\n",
    "    \n",
    "    filename = grabber.get_dataset_file_name(dataset_date=dataset_date)\n",
    "\n",
    "    return np.genfromtxt(\"datasets/\" + filename, delimiter=',').astype(np.int32)\n"
   ]
  },
  {
   "cell_type": "code",
   "execution_count": 4,
   "metadata": {},
   "outputs": [],
   "source": [
    "def get_model(x, y, model_config):\n",
    "    if model_config[\"model\"][\"type\"] == \"regression\":\n",
    "        regression_model = PolynomialRegressionModel(model_config[\"model_name\"], model_config[\"model\"][\"polynomial_degree\"])\n",
    "        regression_model.train(x, y)\n",
    "\n",
    "        return regression_model\n",
    "    elif model_config[\"model\"][\"type\"] == \"neural_net\":\n",
    "        neural_net_model = NeuralNetModel(model_config[\"model_name\"])\n",
    "        neural_net_model.train(x, y, model_config[\"model\"])\n",
    "        \n",
    "        return neural_net_model\n",
    "    \n",
    "    return None"
   ]
  },
  {
   "cell_type": "code",
   "execution_count": 12,
   "metadata": {},
   "outputs": [],
   "source": [
    "import matplotlib.pyplot as plt\n",
    "\n",
    "def plot_graph(model_name, x, y, y_pred):\n",
    "    plt.scatter(x, y, s=10)\n",
    "    sort_axis = operator.itemgetter(0)\n",
    "    sorted_zip = sorted(zip(x, y_pred), key=sort_axis)\n",
    "    x, y_pred = zip(*sorted_zip)\n",
    "    \n",
    "    plt.plot(x, y_pred, color='m')\n",
    "    plt.title(\"Amount of \" + model_name + \" in each day\")\n",
    "    plt.xlabel(\"Day\")\n",
    "    plt.ylabel(model_name)\n",
    "    plt.show()"
   ]
  },
  {
   "cell_type": "code",
   "execution_count": 6,
   "metadata": {},
   "outputs": [],
   "source": [
    "def print_forecast(model_name, model, beginning_day=0, limit=10):\n",
    "    next_days_x = np.array(range(beginning_day, beginning_day + limit)).reshape(-1, 1)\n",
    "    next_days_pred = model.get_predictions(next_days_x)\n",
    "\n",
    "    print(\"The forecast for \" + model_name + \" in the following \" + str(limit) + \" days is:\")\n",
    "\n",
    "    for i in range(0, limit):\n",
    "        print(\"Day \" + str(i + 1) + \": \" + str(next_days_pred[i]))"
   ]
  },
  {
   "cell_type": "code",
   "execution_count": 7,
   "metadata": {},
   "outputs": [],
   "source": [
    "def print_stats(model_config, x, y, model):\n",
    "    y_pred = model.get_predictions(x)\n",
    "\n",
    "    print_forecast(model_config[\"model_name\"], model, beginning_day=len(x), limit=model_config[\"days_to_predict\"])\n",
    "\n",
    "    if isinstance(model, PolynomialRegressionModel):\n",
    "        print(\"The \" + model_config[\"model_name\"] + \" model function is: f(X) = \" + model.get_model_polynomial_str())\n",
    "\n",
    "    plot_graph(model_config[\"model_name\"], x, y, y_pred)\n",
    "    print(\"\")"
   ]
  },
  {
   "cell_type": "code",
   "execution_count": 8,
   "metadata": {},
   "outputs": [
    {
     "name": "stdout",
     "output_type": "stream",
     "text": [
      "The Forecast for Herd Immunity From Covid-19 \n",
      "1 : 30123527\n",
      "2 : 30437418\n",
      "3 : 30760066\n",
      "4 : 31058419\n",
      "5 : 31313275\n",
      "6 : 31545849\n",
      "7 : 31816836\n",
      "8 : 32126071\n",
      "9 : 32434295\n",
      "10 : 32752246\n"
     ]
    },
    {
     "data": {
      "image/png": "[encoded data removed]",
      "text/plain": [
       "<Figure size 432x288 with 1 Axes>"
      ]
     },
     "metadata": {
      "needs_background": "light"
     },
     "output_type": "display_data"
    }
   ],
   "source": [
    "def model_handler(model_config):\n",
    "    training_set = grab_training_set(model_config[\"datagrabber_class\"], model_config[\"grab_data_from_server\"], model_config[\"offline_dataset_date\"])\n",
    "    x = training_set[:, 0].reshape(-1, 1)\n",
    "    y = training_set[:, 1]\n",
    "    model = get_model(x, y, model_config)\n",
    "\n",
    "    print_stats(model_config, x, y, model)\n",
    "\n",
    "if __name__ == \"__main__\":\n",
    "    k=[]\n",
    "    with open('datasets/cases_dataset_2020-09-26.csv', 'r') as file:\n",
    "        reader = csv.reader(file)\n",
    "        for row in reader:\n",
    "            k.append(row[1])\n",
    "        p=k[len(k)-10:]\n",
    "        print('The Forecast for Herd Immunity From Covid-19 ')\n",
    "        index=1\n",
    "        for d in p:\n",
    "            print(index,':',d)\n",
    "            index=index+1\n",
    "        y = np.array(p)\n",
    "        x = np.array([ 0,10,20,30,40,50,60,70,80,90 ])\n",
    "        plt.plot(x, y)\n",
    "        plt.title(\"The Forecast for Herd Immunity From Covid-19\")\n",
    "        plt.xlabel(\"Day's\")\n",
    "        plt.ylabel(\"Herd Immunity\")\n",
    "        plt.show()"
   ]
  },
  {
   "cell_type": "code",
   "execution_count": 13,
   "metadata": {},
   "outputs": [
    {
     "name": "stdout",
     "output_type": "stream",
     "text": [
      "The Forecast for Daily cases From Covid-19 \n",
      "1 : 944725\n",
      "2 : 950299\n",
      "3 : 955760\n",
      "4 : 960961\n",
      "5 : 965115\n",
      "6 : 969252\n",
      "7 : 974976\n",
      "8 : 981310\n",
      "9 : 987160\n",
      "10 : 992979\n"
     ]
    },
    {
     "data": {
      "image/png": "[encoded data removed]",
      "text/plain": [
       "<Figure size 432x288 with 1 Axes>"
      ]
     },
     "metadata": {
      "needs_background": "light"
     },
     "output_type": "display_data"
    }
   ],
   "source": [
    "def model_handler(model_config):\n",
    "    training_set = grab_training_set(model_config[\"datagrabber_class\"], model_config[\"grab_data_from_server\"], model_config[\"offline_dataset_date\"])\n",
    "    x = training_set[:, 0].reshape(-1, 1)\n",
    "    y = training_set[:, 1]\n",
    "    model = get_model(x, y, model_config)\n",
    "\n",
    "    print_stats(model_config, x, y, model)\n",
    "\n",
    "if __name__ == \"__main__\":\n",
    "    k=[]\n",
    "    with open('datasets/deaths_dataset_2020-09-26.csv', 'r') as file:\n",
    "        reader = csv.reader(file)\n",
    "        for row in reader:\n",
    "            k.append(row[1])\n",
    "        p=k[len(k)-10:]\n",
    "        print('The Forecast for Daily cases From Covid-19 ')\n",
    "        index=1\n",
    "        for d in p:\n",
    "            print(index,':',d)\n",
    "            index=index+1\n",
    "        y = np.array(p)\n",
    "        x = np.array([ 0,10,20,30,40,50,60,70,80,90 ])\n",
    "        plt.plot(x, y)\n",
    "        plt.title(\"The Forecast for Daily cases From Covid-19\")\n",
    "        plt.xlabel(\"Day's\")\n",
    "        plt.ylabel(\"Daily Deaths\")\n",
    "        plt.show()"
   ]
  },
  {
   "cell_type": "code",
   "execution_count": null,
   "metadata": {},
   "outputs": [],
   "source": []
  }
 ],
 "metadata": {
  "kernelspec": {
   "display_name": "Python 3",
   "language": "python",
   "name": "python3"
  },
  "language_info": {
   "codemirror_mode": {
    "name": "ipython",
    "version": 3
   },
   "file_extension": ".py",
   "mimetype": "text/x-python",
   "name": "python",
   "nbconvert_exporter": "python",
   "pygments_lexer": "ipython3",
   "version": "3.8.3"
  }
 },
 "nbformat": 4,
 "nbformat_minor": 4
}
